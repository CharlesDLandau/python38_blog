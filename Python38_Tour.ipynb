{
 "cells": [
  {
   "cell_type": "markdown",
   "metadata": {},
   "source": [
    "# Python 3.8 Has Been Released 🚀🚀 Let's Take a Tour"
   ]
  },
  {
   "cell_type": "code",
   "execution_count": 1,
   "metadata": {},
   "outputs": [
    {
     "name": "stdout",
     "output_type": "stream",
     "text": [
      "Python 3.8.0rc1\n"
     ]
    }
   ],
   "source": [
    "!python --version"
   ]
  },
  {
   "cell_type": "markdown",
   "metadata": {},
   "source": [
    "[Launch Page](https://www.python.org/downloads/release/python-380/)\n",
    "\n",
    "Python 3.8 is a major release of Python. Here's a roundup of some new features.\n",
    "\n",
    "1. New Syntax Rules!\n",
    "2. Parallel Data Ops Improvements!\n",
    "3. Static Type Checking Features!\n",
    "4. CPython Stuff!\n",
    "\n",
    "Let's start with a new syntax rule:\n",
    "\n",
    "## Assignment in Expressions (PEP 572)\n",
    "\n",
    "Python now allows you to create variables inside of expressions (e.g. the body of a list comprehension.)"
   ]
  },
  {
   "cell_type": "code",
   "execution_count": 1,
   "metadata": {},
   "outputs": [
    {
     "name": "stdout",
     "output_type": "stream",
     "text": [
      "1.78 s ± 13.5 ms per loop (mean ± std. dev. of 7 runs, 1 loop each)\n",
      "5.45 s ± 93.9 ms per loop (mean ± std. dev. of 7 runs, 1 loop each)\n"
     ]
    }
   ],
   "source": [
    "def f(x):\n",
    "    for k in range(10000000):\n",
    "        x*x*x/x+x+x+x+x\n",
    "    return x\n",
    "\n",
    "x = 2\n",
    "\n",
    "# Reuse a value that's expensive to compute\n",
    "%timeit [y := f(x), y**2, y**3]\n",
    "\n",
    "# Without reuse\n",
    "%timeit [f(x), f(x)**2, f(x)**3]"
   ]
  },
  {
   "cell_type": "markdown",
   "metadata": {},
   "source": [
    "Doing this in a \"naked\" expression is strongly discouraged in the PEP. See: [Exceptional Cases](https://www.python.org/dev/peps/pep-0572/#exceptional-cases)\n",
    "\n",
    "[PEP 572](https://www.python.org/dev/peps/pep-0572/)\n",
    "\n",
    "Here's one more new syntax rule:"
   ]
  },
  {
   "cell_type": "markdown",
   "metadata": {},
   "source": [
    "## Positional-Only Args (PEP 570)\n",
    "\n",
    "This one confused me until I scrolled down to the syntax section, so let's just see it in action:"
   ]
  },
  {
   "cell_type": "code",
   "execution_count": 2,
   "metadata": {},
   "outputs": [],
   "source": [
    "def prelaunch_func(foo, bar, baz=None):\n",
    "    print(f\"\\nFoo:{foo}\\nBar:{bar}\\nBaz:{baz}\")\n",
    "\n",
    "def pep570_func(foo, /, bar, baz=None):\n",
    "    print(f\"\\nFoo:{foo}\\nBar:{bar}\\nBaz:{baz}\")"
   ]
  },
  {
   "cell_type": "markdown",
   "metadata": {},
   "source": [
    "The `/` in the call signature of `pep570_func` denotes where the positional-only args end. These functions will let us see the practical difference PEP 570 causes."
   ]
  },
  {
   "cell_type": "code",
   "execution_count": 3,
   "metadata": {},
   "outputs": [
    {
     "name": "stdout",
     "output_type": "stream",
     "text": [
      "\n",
      "Foo:1\n",
      "Bar:2\n",
      "Baz:3\n"
     ]
    }
   ],
   "source": [
    "prelaunch_func(foo=1, bar=2, baz=3)"
   ]
  },
  {
   "cell_type": "code",
   "execution_count": 4,
   "metadata": {},
   "outputs": [
    {
     "ename": "TypeError",
     "evalue": "pep570_func() got some positional-only arguments passed as keyword arguments: 'foo'",
     "output_type": "error",
     "traceback": [
      "\u001b[0;31m---------------------------------------------------------------------------\u001b[0m",
      "\u001b[0;31mTypeError\u001b[0m                                 Traceback (most recent call last)",
      "\u001b[0;32m<ipython-input-4-9e9851275486>\u001b[0m in \u001b[0;36m<module>\u001b[0;34m\u001b[0m\n\u001b[1;32m      1\u001b[0m \u001b[0;31m# Violating positional-only\u001b[0m\u001b[0;34m\u001b[0m\u001b[0;34m\u001b[0m\u001b[0;34m\u001b[0m\u001b[0m\n\u001b[0;32m----> 2\u001b[0;31m \u001b[0mpep570_func\u001b[0m\u001b[0;34m(\u001b[0m\u001b[0mfoo\u001b[0m\u001b[0;34m=\u001b[0m\u001b[0;36m1\u001b[0m\u001b[0;34m,\u001b[0m \u001b[0mbar\u001b[0m\u001b[0;34m=\u001b[0m\u001b[0;36m2\u001b[0m\u001b[0;34m,\u001b[0m \u001b[0mbaz\u001b[0m\u001b[0;34m=\u001b[0m\u001b[0;36m3\u001b[0m\u001b[0;34m)\u001b[0m\u001b[0;34m\u001b[0m\u001b[0;34m\u001b[0m\u001b[0m\n\u001b[0m",
      "\u001b[0;31mTypeError\u001b[0m: pep570_func() got some positional-only arguments passed as keyword arguments: 'foo'"
     ]
    }
   ],
   "source": [
    "# Violating positional-only\n",
    "pep570_func(foo=1, bar=2, baz=3)"
   ]
  },
  {
   "cell_type": "code",
   "execution_count": 5,
   "metadata": {},
   "outputs": [
    {
     "name": "stdout",
     "output_type": "stream",
     "text": [
      "\n",
      "Foo:1\n",
      "Bar:2\n",
      "Baz:3\n"
     ]
    }
   ],
   "source": [
    "# This is fine, as bar is right of the \"/\" in the call signature\n",
    "pep570_func(1, bar=2, baz=3)"
   ]
  },
  {
   "cell_type": "code",
   "execution_count": 6,
   "metadata": {},
   "outputs": [
    {
     "ename": "SyntaxError",
     "evalue": "positional argument follows keyword argument (<ipython-input-6-adcd14865e94>, line 2)",
     "output_type": "error",
     "traceback": [
      "\u001b[0;36m  File \u001b[0;32m\"<ipython-input-6-adcd14865e94>\"\u001b[0;36m, line \u001b[0;32m2\u001b[0m\n\u001b[0;31m    pep570_func(foo=1, 2, baz=3)\u001b[0m\n\u001b[0m                       ^\u001b[0m\n\u001b[0;31mSyntaxError\u001b[0m\u001b[0;31m:\u001b[0m positional argument follows keyword argument\n"
     ]
    }
   ],
   "source": [
    "# This was wrong before PEP-570 of course\n",
    "pep570_func(foo=1, 2, baz=3)"
   ]
  },
  {
   "cell_type": "markdown",
   "metadata": {},
   "source": [
    "What I like best about this PEP is that you can also have positional-only args with default values, as shown here:"
   ]
  },
  {
   "cell_type": "code",
   "execution_count": 7,
   "metadata": {},
   "outputs": [
    {
     "name": "stdout",
     "output_type": "stream",
     "text": [
      "\n",
      "Foo:10\n",
      "Bar:None\n",
      "Baz:1\n"
     ]
    }
   ],
   "source": [
    "def pep570_func(foo, bar=None, baz=1, /):\n",
    "    print(f\"\\nFoo:{foo}\\nBar:{bar}\\nBaz:{baz}\")\n",
    "\n",
    "pep570_func(10)"
   ]
  },
  {
   "cell_type": "code",
   "execution_count": 8,
   "metadata": {},
   "outputs": [
    {
     "ename": "TypeError",
     "evalue": "pep570_func() got some positional-only arguments passed as keyword arguments: 'bar'",
     "output_type": "error",
     "traceback": [
      "\u001b[0;31m---------------------------------------------------------------------------\u001b[0m",
      "\u001b[0;31mTypeError\u001b[0m                                 Traceback (most recent call last)",
      "\u001b[0;32m<ipython-input-8-05c1c4b07ca6>\u001b[0m in \u001b[0;36m<module>\u001b[0;34m\u001b[0m\n\u001b[1;32m      1\u001b[0m \u001b[0;31m# But don't mistake them for kwargs\u001b[0m\u001b[0;34m\u001b[0m\u001b[0;34m\u001b[0m\u001b[0;34m\u001b[0m\u001b[0m\n\u001b[0;32m----> 2\u001b[0;31m \u001b[0mpep570_func\u001b[0m\u001b[0;34m(\u001b[0m\u001b[0;36m10\u001b[0m\u001b[0;34m,\u001b[0m \u001b[0mbar\u001b[0m\u001b[0;34m=\u001b[0m\u001b[0;36m1\u001b[0m\u001b[0;34m)\u001b[0m\u001b[0;34m\u001b[0m\u001b[0;34m\u001b[0m\u001b[0m\n\u001b[0m",
      "\u001b[0;31mTypeError\u001b[0m: pep570_func() got some positional-only arguments passed as keyword arguments: 'bar'"
     ]
    }
   ],
   "source": [
    "# But don't mistake them for kwargs\n",
    "pep570_func(10, bar=1)"
   ]
  },
  {
   "cell_type": "markdown",
   "metadata": {},
   "source": [
    "For more details check out the PEP: [PEP-570](https://www.python.org/dev/peps/pep-0570/)\n",
    "\n",
    "Now let's move on to some parallel data processing stuff:\n",
    "\n",
    "## Shared Memory and New Pickles\n",
    "\n",
    "Two important improvements in 3.8 were inspired by libraries like [dask](https://docs.dask.org/en/latest/) that try to solve the problem of passing data between processes. One is to create a new version of `pickle` that can pass data objects between processeses using zero-copy buffers, for more memory efficient sharing.\n",
    "\n",
    "> The common theme of these third-party serialization efforts is to generate a stream of object metadata (which contains pickle-like information about the objects being serialized) and a separate stream of zero-copy buffer objects for the payloads of large objects. Note that, in this scheme, small objects such as ints, etc. can be dumped together with the metadata stream. Refinements can include opportunistic compression of large data depending on its type and layout, like dask does.\n",
    "\n",
    "> This PEP aims to make pickle usable in a way where large data is handled as a separate stream of zero-copy buffers, letting the application handle those buffers optimally.\n",
    "\n",
    "[PEP-574](https://www.python.org/dev/peps/pep-0574/#rationale)\n",
    "\n",
    "The other biggie in this category is that processes have a new interface for sharing memory: `SharedMemory` and `SharedMemoryManager`. The docs feature a very exciting example:"
   ]
  },
  {
   "cell_type": "code",
   "execution_count": 13,
   "metadata": {},
   "outputs": [
    {
     "name": "stdout",
     "output_type": "stream",
     "text": [
      "Total of values in shared list: 2000\n"
     ]
    }
   ],
   "source": [
    "import multiprocessing\n",
    "from multiprocessing.managers import SharedMemoryManager\n",
    "\n",
    "# Arbitrary operations on a shared list\n",
    "def do_work(shared_list, start, stop):\n",
    "    for idx in range(start, stop):\n",
    "        shared_list[idx] = 1\n",
    "\n",
    "# Example from the docs\n",
    "with SharedMemoryManager() as smm:\n",
    "    sl = smm.ShareableList(range(2000))\n",
    "    # Divide the work among two processes, storing partial results in sl\n",
    "    p1 = multiprocessing.Process(target=do_work, args=(sl, 0, 1000))\n",
    "    p2 = multiprocessing.Process(target=do_work, args=(sl, 1000, 2000))\n",
    "    p1.start()\n",
    "    p2.start()  # A multiprocessing.Pool might be more efficient\n",
    "    p1.join()\n",
    "    p2.join()   # Wait for all work to complete in both processes\n",
    "    total_result = sum(sl)  # Consolidate the partial results now in sl\n",
    "    \n",
    "# `do_work` set all values to 1 in parallel\n",
    "print(f\"Total of values in shared list: {total_result}\")"
   ]
  },
  {
   "cell_type": "markdown",
   "metadata": {},
   "source": [
    "It remains to be seen if these improvements create a happy path that parallel ops focused libraries will adopt. In any case, it's exciting. Check out `SharedMemory` [here](https://docs.python.org/3.8/library/multiprocessing.shared_memory.html).\n",
    "\n",
    "Now let's look at some staic type checking stuff:"
   ]
  },
  {
   "cell_type": "markdown",
   "metadata": {},
   "source": [
    "## Typed Dictionaries (PEP 589)\n",
    "\n",
    "Type hints don't cover nested dicts and dataclasses don't parse to JSON well enough, so now Python will support some static type-checking for dictionaries with a known set of keys. Consider the script below:\n",
    "\n",
    "```python\n",
    "# scripts/valid_589.py\n",
    "from typing import TypedDict\n",
    "\n",
    "class Movie(TypedDict):\n",
    "    name: str\n",
    "    year: int\n",
    "        \n",
    "# Cannonical assignment of Movie\n",
    "movie: Movie = {'name': 'Wally 2: Rise of the Garbage Bots', 'year': 2055}\n",
    "```\n",
    "\n",
    "`mypy` will pass this with no issues because the dictionary is a valid implementation of a type."
   ]
  },
  {
   "cell_type": "code",
   "execution_count": 14,
   "metadata": {},
   "outputs": [
    {
     "name": "stdout",
     "output_type": "stream",
     "text": [
      "\u001b[1m\u001b[32mSuccess: no issues found in 1 source file\u001b[m\n"
     ]
    }
   ],
   "source": [
    "!mypy scripts/valid_589.py"
   ]
  },
  {
   "cell_type": "markdown",
   "metadata": {},
   "source": [
    "Now consider the invalid script below -- it has values of the wrong types:\n",
    "\n",
    "```python\n",
    "# scripts/invalid_values_589.py\n",
    "from typing import TypedDict\n",
    "\n",
    "class Movie(TypedDict):\n",
    "    name: str\n",
    "    year: int\n",
    "\n",
    "def f(m: Movie):\n",
    "    return m['year']\n",
    "\n",
    "f({'year': 'wrong type', 'name': 12})\n",
    "```"
   ]
  },
  {
   "cell_type": "code",
   "execution_count": 16,
   "metadata": {},
   "outputs": [
    {
     "name": "stdout",
     "output_type": "stream",
     "text": [
      "scripts/invalid_values_589.py:10: \u001b[1m\u001b[31merror:\u001b[m Incompatible types (expression has type \u001b[m\u001b[1m\"str\"\u001b[m, TypedDict item \u001b[m\u001b[1m\"year\"\u001b[m has type \u001b[m\u001b[1m\"int\"\u001b[m)\u001b[m\n",
      "scripts/invalid_values_589.py:10: \u001b[1m\u001b[31merror:\u001b[m Incompatible types (expression has type \u001b[m\u001b[1m\"int\"\u001b[m, TypedDict item \u001b[m\u001b[1m\"name\"\u001b[m has type \u001b[m\u001b[1m\"str\"\u001b[m)\u001b[m\n",
      "\u001b[1m\u001b[31mFound 2 errors in 1 file (checked 1 source file)\u001b[m\n"
     ]
    }
   ],
   "source": [
    "!mypy scripts/invalid_values_589.py"
   ]
  },
  {
   "cell_type": "markdown",
   "metadata": {},
   "source": [
    "You can also check for missing values, invalid fields, or create `TypedDict`s that will accept missing values by using the `total=False` with the constructor.\n",
    "\n",
    "[PEP 589](https://www.python.org/dev/peps/pep-0589)\n",
    "\n",
    "## Finality (PEP 591)\n",
    "\n",
    "3.8 will also implement finality. We can prevent objects from being overriden or inherited. The `@final` decorator can be used with a `class` definition to prevent inheritence, and the `Final` type will prevent overrides. Here's two examples from the PEP:\n",
    "\n",
    "```python\n",
    "# Example 1, inheriting a @final class\n",
    "from typing import final\n",
    "\n",
    "@final\n",
    "class Base:\n",
    "    ...\n",
    "\n",
    "class Derived(Base):  # Error: Cannot inherit from final class \"Base\"\n",
    "    ...\n",
    "\n",
    "# Example 2, overriding an attribute\n",
    "from typing import Final\n",
    "\n",
    "class Window:\n",
    "    BORDER_WIDTH: Final = 2.5\n",
    "    ...\n",
    "\n",
    "class ListView(Window):\n",
    "    BORDER_WIDTH = 3  # Error: can't override a final attribute\n",
    "```\n",
    "\n",
    "Finality can be applied to methods, attributes and inheritence. Check out all the features in [PEP 591](https://www.python.org/dev/peps/pep-0591/)\n",
    "\n",
    "## Literals (PEP 586)\n",
    "\n",
    "The type hinting call signature `def f(k: int):` doesn't help us if the function expects `int`s in a range. `open` requires a `mode: str` argument from a specific set of strings. `Literal`s to the rescue!\n",
    "\n",
    "```python\n",
    "# scripts/problematic_586.py\n",
    "def problematic_586(k: int):\n",
    "    if k < 100:\n",
    "        return k\n",
    "    else:\n",
    "        raise ValueError('Gotta be less than 100')\n",
    "problematic_586(144)\n",
    "```"
   ]
  },
  {
   "cell_type": "code",
   "execution_count": 17,
   "metadata": {},
   "outputs": [
    {
     "name": "stdout",
     "output_type": "stream",
     "text": [
      "\u001b[1m\u001b[32mSuccess: no issues found in 1 source file\u001b[m\n"
     ]
    }
   ],
   "source": [
    "!mypy scripts/problematic_586.py"
   ]
  },
  {
   "cell_type": "markdown",
   "metadata": {},
   "source": [
    "Instead, we can pass a `Literal` to the type hinting for our argument `k`.\n",
    "\n",
    "```python\n",
    "# scripts/valid_586.py\n",
    "from typing import Literal\n",
    "\n",
    "def valid_586(k: Literal[0, 1, 2, 99]):\n",
    "    if k < 100:\n",
    "        return k\n",
    "    else:\n",
    "        return float(k)\n",
    "valid_586(43)\n",
    "```"
   ]
  },
  {
   "cell_type": "code",
   "execution_count": 18,
   "metadata": {},
   "outputs": [
    {
     "name": "stdout",
     "output_type": "stream",
     "text": [
      "scripts/valid_586.py:8: \u001b[1m\u001b[31merror:\u001b[m Argument 1 to \u001b[m\u001b[1m\"valid_586\"\u001b[m has incompatible type \u001b[m\u001b[1m\"Literal[43]\"\u001b[m; expected \u001b[m\u001b[1m\"Union[Literal[0], Literal[1], Literal[2], Literal[99]]\"\u001b[m\u001b[m\n",
      "\u001b[1m\u001b[31mFound 1 error in 1 file (checked 1 source file)\u001b[m\n"
     ]
    }
   ],
   "source": [
    "!mypy scripts/valid_586.py"
   ]
  },
  {
   "cell_type": "markdown",
   "metadata": {},
   "source": [
    "There's a bit of nuance to using `Literal` so if you decide to explore further start with [PEP-586](https://www.python.org/dev/peps/pep-0586).\n",
    "\n",
    "And that's it! I'm going to hold off on writing about the CPython features because, frankly, I would prefer not to write about them until I have my arms more firmly around CPython generally and those features in particular.\n",
    "\n",
    "Thanks for reading!"
   ]
  }
 ],
 "metadata": {
  "kernelspec": {
   "display_name": "Python 3",
   "language": "python",
   "name": "python3"
  },
  "language_info": {
   "codemirror_mode": {
    "name": "ipython",
    "version": 3
   },
   "file_extension": ".py",
   "mimetype": "text/x-python",
   "name": "python",
   "nbconvert_exporter": "python",
   "pygments_lexer": "ipython3",
   "version": "3.8.0rc1"
  }
 },
 "nbformat": 4,
 "nbformat_minor": 4
}
